{
  "nbformat": 4,
  "nbformat_minor": 0,
  "metadata": {
    "colab": {
      "provenance": [],
      "authorship_tag": "ABX9TyMVQdtSoKUkFbzFnhAQcrdE",
      "include_colab_link": true
    },
    "kernelspec": {
      "name": "python3",
      "display_name": "Python 3"
    },
    "language_info": {
      "name": "python"
    }
  },
  "cells": [
    {
      "cell_type": "markdown",
      "metadata": {
        "id": "view-in-github",
        "colab_type": "text"
      },
      "source": [
        "<a href=\"https://colab.research.google.com/github/Nitheeshss/Doodle_program/blob/main/doodle.ipynb\" target=\"_parent\"><img src=\"https://colab.research.google.com/assets/colab-badge.svg\" alt=\"Open In Colab\"/></a>"
      ]
    },
    {
      "cell_type": "code",
      "execution_count": null,
      "metadata": {
        "id": "MxcMYLx7Zrzv"
      },
      "outputs": [],
      "source": [
        "\n",
        "import cv2\n",
        "import numpy as np\n",
        "from transformers import GPT2LMHeadModel, GPT2Tokenizer"
      ]
    },
    {
      "cell_type": "code",
      "source": [
        "model_name = \"gpt2\"\n",
        "model = GPT2LMHeadModel.from_pretrained(model_name)\n",
        "tokenizer = GPT2Tokenizer.from_pretrained(model_name)"
      ],
      "metadata": {
        "id": "F1NwWyJPaHoX"
      },
      "execution_count": null,
      "outputs": []
    },
    {
      "cell_type": "code",
      "source": [
        "\n",
        "def generate_text(prompt, max_length=100, temperature=0.7):\n",
        "    input_ids = tokenizer.encode(prompt, return_tensors=\"pt\")\n",
        "\n",
        "    with torch.no_grad():\n",
        "        output = model.generate(\n",
        "            input_ids=input_ids,\n",
        "            max_length=max_length,\n",
        "            temperature=temperature,\n",
        "            num_return_sequences=1,\n",
        "        )\n",
        "\n",
        "    generated_text = tokenizer.decode(output[0], skip_special_tokens=True)\n",
        "    return generated_text\n",
        "\n",
        "def doodling_program():\n",
        "    canvas_size = 500\n",
        "    canvas = np.ones((canvas_size, canvas_size, 3), dtype=np.uint8) * 255\n",
        "    drawing = False\n",
        "\n",
        "    while True:\n",
        "        cv2.imshow(\"Doodling Program\", canvas)\n",
        "        key = cv2.waitKey(1) & 0xFF\n",
        "\n",
        "        if key == ord(\"q\"):\n",
        "            break\n",
        "\n",
        "        elif key == ord(\"c\"):\n",
        "            canvas = np.ones((canvas_size, canvas_size, 3), dtype=np.uint8) * 255\n",
        "\n",
        "        elif key == ord(\"g\"):\n",
        "            doodle_text = generate_text(\"I drew a doodle of a \")\n",
        "            canvas = np.ones((canvas_size, canvas_size, 3), dtype=np.uint8) * 255\n",
        "            cv2.putText(canvas, doodle_text, (30, 50), cv2.FONT_HERSHEY_SIMPLEX, 1, (0, 0, 0), 2)\n",
        "\n",
        "        elif key == ord(\"d\"):\n",
        "            drawing = not drawing\n",
        "\n",
        "        elif drawing and key != 255:\n",
        "            canvas_color = (0, 0, 0)  # Black color\n",
        "            thickness = 2\n",
        "\n",
        "            if key == ord(\"r\"):\n",
        "                canvas_color = (0, 0, 255)  # Red color\n",
        "\n",
        "            elif key == ord(\"b\"):\n",
        "                canvas_color = (255, 0, 0)  # Blue color\n",
        "\n",
        "            elif key == ord(\"g\"):\n",
        "                canvas_color = (0, 255, 0)  # Green color\n",
        "\n",
        "            elif key == ord(\"e\"):\n",
        "                canvas_color = (255, 255, 255)  # Eraser (white color)\n",
        "                thickness = 10\n",
        "\n",
        "            elif key == ord(\"s\"):\n",
        "                cv2.imwrite(\"doodle.png\", canvas)\n",
        "\n",
        "            x, y = np.random.randint(0, canvas_size), np.random.randint(0, canvas_size)\n",
        "            canvas = cv2.circle(canvas, (x, y), thickness, canvas_color, -1)\n",
        "\n",
        "    cv2.destroyAllWindows()\n",
        "\n",
        "def main():\n",
        "    doodling_program()\n",
        "\n",
        "if __name__ == \"__main__\":\n",
        "    main()"
      ],
      "metadata": {
        "id": "qI1UOFh4aIhj"
      },
      "execution_count": null,
      "outputs": []
    }
  ]
}